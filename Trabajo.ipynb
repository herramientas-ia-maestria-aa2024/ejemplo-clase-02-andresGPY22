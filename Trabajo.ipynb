{
 "cells": [
  {
   "cell_type": "code",
   "execution_count": null,
   "id": "d10758f9",
   "metadata": {},
   "outputs": [],
   "source": [
    "# instalar spaCy\n",
    "!pip install spacy"
   ]
  },
  {
   "cell_type": "code",
   "execution_count": null,
   "id": "cdc5ba67",
   "metadata": {},
   "outputs": [],
   "source": [
    "# instalar los modelos propios de la librería, para el ejemplo, uno en español\n",
    "!python -m spacy download es_core_news_sm"
   ]
  },
  {
   "cell_type": "code",
   "execution_count": null,
   "id": "12294088",
   "metadata": {},
   "outputs": [],
   "source": [
    "import spacy"
   ]
  },
  {
   "cell_type": "code",
   "execution_count": null,
   "id": "6e6d38e2",
   "metadata": {},
   "outputs": [],
   "source": [
    "# usar un modelo propio de spaCy en español\n",
    "nlp = spacy.load(\"es_core_news_sm\")"
   ]
  },
  {
   "cell_type": "code",
   "execution_count": null,
   "id": "0e388f89",
   "metadata": {},
   "outputs": [],
   "source": [
    "df = pd.read_csv('disurso.txt', encoding='utf-8')"
   ]
  },
  {
   "cell_type": "code",
   "execution_count": null,
   "id": "280f6b36",
   "metadata": {},
   "outputs": [],
   "source": [
    "documento = nlp(df)"
   ]
  },
  {
   "cell_type": "code",
   "execution_count": null,
   "id": "66c3f066",
   "metadata": {},
   "outputs": [],
   "source": [
    "for l in documento.sents:\n",
    "    print(l)"
   ]
  },
  {
   "cell_type": "code",
   "execution_count": null,
   "id": "5ac0fdf8",
   "metadata": {},
   "outputs": [],
   "source": [
    "for l in documento.ents:\n",
    "    print(l.text, l.label_)"
   ]
  },
  {
   "cell_type": "code",
   "execution_count": null,
   "id": "c514c956",
   "metadata": {},
   "outputs": [],
   "source": []
  }
 ],
 "metadata": {
  "kernelspec": {
   "display_name": "Python 3 (ipykernel)",
   "language": "python",
   "name": "python3"
  },
  "language_info": {
   "codemirror_mode": {
    "name": "ipython",
    "version": 3
   },
   "file_extension": ".py",
   "mimetype": "text/x-python",
   "name": "python",
   "nbconvert_exporter": "python",
   "pygments_lexer": "ipython3",
   "version": "3.9.16"
  }
 },
 "nbformat": 4,
 "nbformat_minor": 5
}
